{
  "nbformat": 4,
  "nbformat_minor": 0,
  "metadata": {
    "colab": {
      "provenance": [],
      "authorship_tag": "ABX9TyNMLqV0L1WByLrp7pzLaFzM",
      "include_colab_link": true
    },
    "kernelspec": {
      "name": "python3",
      "display_name": "Python 3"
    },
    "language_info": {
      "name": "python"
    }
  },
  "cells": [
    {
      "cell_type": "markdown",
      "metadata": {
        "id": "view-in-github",
        "colab_type": "text"
      },
      "source": [
        "<a href=\"https://colab.research.google.com/github/neelandrakar/sales_prediction_models/blob/main/Predict_Next_Sale_Test_v001.ipynb\" target=\"_parent\"><img src=\"https://colab.research.google.com/assets/colab-badge.svg\" alt=\"Open In Colab\"/></a>"
      ]
    },
    {
      "cell_type": "markdown",
      "source": [
        "**Importing Libraries**"
      ],
      "metadata": {
        "id": "XkbYzYBgBeVu"
      }
    },
    {
      "cell_type": "code",
      "execution_count": 53,
      "metadata": {
        "id": "TmEM4tGpawJc"
      },
      "outputs": [],
      "source": [
        "import numpy as np\n",
        "import pandas as pd\n",
        "import matplotlib.pyplot as plt\n",
        "import seaborn as sns\n",
        "\n"
      ]
    },
    {
      "cell_type": "markdown",
      "source": [
        "**Dataset Import**"
      ],
      "metadata": {
        "id": "X1t-iAxeBpo6"
      }
    },
    {
      "cell_type": "code",
      "source": [
        "sale_dt = pd.read_csv(\"dealer_wise_sale.csv\")\n",
        "sale_dt['purchase_date'] = pd.to_datetime(sale_dt['purchase_date'])\n",
        "sale_dt['PREV_INVOICE'] = pd.to_datetime(sale_dt['PREV_INVOICE'])\n",
        "sale_dt['PREV_INVOICE_TWO'] = pd.to_datetime(sale_dt['PREV_INVOICE_TWO'])\n",
        "sale_dt['PREV_INVOICE_THREE'] = pd.to_datetime(sale_dt['PREV_INVOICE_THREE'])\n",
        "\n",
        "print(sale_dt.head(5))"
      ],
      "metadata": {
        "colab": {
          "base_uri": "https://localhost:8080/"
        },
        "id": "NHNsdP6jBr_S",
        "outputId": "f03feddf-3a36-4707-a8bf-f9085dff37b2"
      },
      "execution_count": 54,
      "outputs": [
        {
          "output_type": "stream",
          "name": "stdout",
          "text": [
            "   dealer_id purchase_date  purchase_rank PREV_INVOICE PREV_INVOICE_TWO  \\\n",
            "0       4886    2025-02-18              1   2025-02-14       2025-01-15   \n",
            "1       4886    2025-02-14              2   2025-01-15       2024-11-27   \n",
            "2       4886    2025-01-15              3   2024-11-27       2024-09-24   \n",
            "3       4886    2024-11-27              4   2024-09-24       2024-08-22   \n",
            "4       8045    2025-02-12              1   2024-12-24       2024-10-27   \n",
            "\n",
            "  PREV_INVOICE_THREE  \n",
            "0         2024-11-27  \n",
            "1         2024-09-24  \n",
            "2         2024-08-22  \n",
            "3         2024-07-21  \n",
            "4         2024-08-26  \n"
          ]
        }
      ]
    },
    {
      "cell_type": "markdown",
      "source": [
        "**Creating a user dataframe**"
      ],
      "metadata": {
        "id": "QqiNwD0ftwUK"
      }
    },
    {
      "cell_type": "code",
      "source": [
        "sale_user = pd.DataFrame(sale_dt['dealer_id'].unique())\n",
        "sale_user.columns = ['dealer_id']\n",
        "print(sale_user);"
      ],
      "metadata": {
        "colab": {
          "base_uri": "https://localhost:8080/"
        },
        "id": "PapN1kgjt0nD",
        "outputId": "799c2c93-4098-4087-a0a0-6f7af075eec7"
      },
      "execution_count": 55,
      "outputs": [
        {
          "output_type": "stream",
          "name": "stdout",
          "text": [
            "     dealer_id\n",
            "0         4886\n",
            "1         8045\n",
            "2        11702\n",
            "3        12211\n",
            "4        12280\n",
            "..         ...\n",
            "330  232977250\n",
            "331  232977760\n",
            "332  232979074\n",
            "333  232980371\n",
            "334  232980549\n",
            "\n",
            "[335 rows x 1 columns]\n"
          ]
        }
      ]
    },
    {
      "cell_type": "markdown",
      "source": [
        "**Calculation of date_diff between first and last purchases**"
      ],
      "metadata": {
        "id": "jCMBhIPCyp5t"
      }
    },
    {
      "cell_type": "code",
      "source": [
        "#create a dataframe with dealer_id and first purchase date in tx_next\n",
        "sale_first_purchase = sale_dt.groupby('dealer_id').purchase_date.min().reset_index()\n",
        "sale_first_purchase.columns = ['dealer_id','MinPurchaseDate']\n",
        "\n",
        "#create a dataframe with dealer_id and last purchase date in tx_6m\n",
        "sale_last_purchase = sale_dt.groupby('dealer_id').purchase_date.max().reset_index()\n",
        "sale_last_purchase.columns = ['dealer_id','MaxPurchaseDate']\n",
        "\n",
        "#merge two dataframes\n",
        "purchase_dates = pd.merge(sale_last_purchase,sale_first_purchase,on='dealer_id',how='left')\n",
        "\n",
        "#calculate the time difference in days:\n",
        "purchase_dates['NextPurchaseDay'] = (purchase_dates['MaxPurchaseDate'] - purchase_dates['MinPurchaseDate']).dt.days\n",
        "\n",
        "print('purchase_dates: \\n',purchase_dates)\n",
        "print('sale_user: \\n',sale_user)\n",
        "\n",
        "new_sale_user = pd.merge(sale_user,purchase_dates[['dealer_id','NextPurchaseDay']],on='dealer_id',how='left')\n",
        "print('new_sale_user: \\n',new_sale_user)\n",
        "\n"
      ],
      "metadata": {
        "colab": {
          "base_uri": "https://localhost:8080/"
        },
        "id": "PDZMMx8oyv9G",
        "outputId": "755d40fc-9856-416c-d063-2f6e1a1cec0e"
      },
      "execution_count": 57,
      "outputs": [
        {
          "output_type": "stream",
          "name": "stdout",
          "text": [
            "purchase_dates: \n",
            "      dealer_id MaxPurchaseDate MinPurchaseDate  NextPurchaseDay\n",
            "0         4886      2025-02-18      2024-11-27               83\n",
            "1         8045      2025-02-12      2024-08-26              170\n",
            "2        11702      2025-02-20      2025-01-08               43\n",
            "3        12211      2025-01-10      2024-02-21              324\n",
            "4        12280      2025-02-16      2024-09-13              156\n",
            "..         ...             ...             ...              ...\n",
            "330  232977250      2025-02-03      2025-02-03                0\n",
            "331  232977760      2025-02-05      2025-02-01                4\n",
            "332  232979074      2025-02-13      2025-02-13                0\n",
            "333  232980371      2025-02-15      2025-02-15                0\n",
            "334  232980549      2025-02-14      2025-02-14                0\n",
            "\n",
            "[335 rows x 4 columns]\n",
            "sale_user: \n",
            "      dealer_id\n",
            "0         4886\n",
            "1         8045\n",
            "2        11702\n",
            "3        12211\n",
            "4        12280\n",
            "..         ...\n",
            "330  232977250\n",
            "331  232977760\n",
            "332  232979074\n",
            "333  232980371\n",
            "334  232980549\n",
            "\n",
            "[335 rows x 1 columns]\n",
            "new_sale_user: \n",
            "      dealer_id  NextPurchaseDay\n",
            "0         4886               83\n",
            "1         8045              170\n",
            "2        11702               43\n",
            "3        12211              324\n",
            "4        12280              156\n",
            "..         ...              ...\n",
            "330  232977250                0\n",
            "331  232977760                4\n",
            "332  232979074                0\n",
            "333  232980371                0\n",
            "334  232980549                0\n",
            "\n",
            "[335 rows x 2 columns]\n"
          ]
        }
      ]
    },
    {
      "cell_type": "code",
      "source": [
        "new_sale_user"
      ],
      "metadata": {
        "colab": {
          "base_uri": "https://localhost:8080/",
          "height": 423
        },
        "id": "YgRHNxpCkL-C",
        "outputId": "f5c0066e-0aa8-42cc-cd81-2500e38e34d0"
      },
      "execution_count": 106,
      "outputs": [
        {
          "output_type": "execute_result",
          "data": {
            "text/plain": [
              "     dealer_id  NextPurchaseDay\n",
              "0         4886               83\n",
              "1         8045              170\n",
              "2        11702               43\n",
              "3        12211              324\n",
              "4        12280              156\n",
              "..         ...              ...\n",
              "330  232977250                0\n",
              "331  232977760                4\n",
              "332  232979074                0\n",
              "333  232980371                0\n",
              "334  232980549                0\n",
              "\n",
              "[335 rows x 2 columns]"
            ],
            "text/html": [
              "\n",
              "  <div id=\"df-12f5d93a-165f-4517-8ee9-de4f4fa15615\" class=\"colab-df-container\">\n",
              "    <div>\n",
              "<style scoped>\n",
              "    .dataframe tbody tr th:only-of-type {\n",
              "        vertical-align: middle;\n",
              "    }\n",
              "\n",
              "    .dataframe tbody tr th {\n",
              "        vertical-align: top;\n",
              "    }\n",
              "\n",
              "    .dataframe thead th {\n",
              "        text-align: right;\n",
              "    }\n",
              "</style>\n",
              "<table border=\"1\" class=\"dataframe\">\n",
              "  <thead>\n",
              "    <tr style=\"text-align: right;\">\n",
              "      <th></th>\n",
              "      <th>dealer_id</th>\n",
              "      <th>NextPurchaseDay</th>\n",
              "    </tr>\n",
              "  </thead>\n",
              "  <tbody>\n",
              "    <tr>\n",
              "      <th>0</th>\n",
              "      <td>4886</td>\n",
              "      <td>83</td>\n",
              "    </tr>\n",
              "    <tr>\n",
              "      <th>1</th>\n",
              "      <td>8045</td>\n",
              "      <td>170</td>\n",
              "    </tr>\n",
              "    <tr>\n",
              "      <th>2</th>\n",
              "      <td>11702</td>\n",
              "      <td>43</td>\n",
              "    </tr>\n",
              "    <tr>\n",
              "      <th>3</th>\n",
              "      <td>12211</td>\n",
              "      <td>324</td>\n",
              "    </tr>\n",
              "    <tr>\n",
              "      <th>4</th>\n",
              "      <td>12280</td>\n",
              "      <td>156</td>\n",
              "    </tr>\n",
              "    <tr>\n",
              "      <th>...</th>\n",
              "      <td>...</td>\n",
              "      <td>...</td>\n",
              "    </tr>\n",
              "    <tr>\n",
              "      <th>330</th>\n",
              "      <td>232977250</td>\n",
              "      <td>0</td>\n",
              "    </tr>\n",
              "    <tr>\n",
              "      <th>331</th>\n",
              "      <td>232977760</td>\n",
              "      <td>4</td>\n",
              "    </tr>\n",
              "    <tr>\n",
              "      <th>332</th>\n",
              "      <td>232979074</td>\n",
              "      <td>0</td>\n",
              "    </tr>\n",
              "    <tr>\n",
              "      <th>333</th>\n",
              "      <td>232980371</td>\n",
              "      <td>0</td>\n",
              "    </tr>\n",
              "    <tr>\n",
              "      <th>334</th>\n",
              "      <td>232980549</td>\n",
              "      <td>0</td>\n",
              "    </tr>\n",
              "  </tbody>\n",
              "</table>\n",
              "<p>335 rows × 2 columns</p>\n",
              "</div>\n",
              "    <div class=\"colab-df-buttons\">\n",
              "\n",
              "  <div class=\"colab-df-container\">\n",
              "    <button class=\"colab-df-convert\" onclick=\"convertToInteractive('df-12f5d93a-165f-4517-8ee9-de4f4fa15615')\"\n",
              "            title=\"Convert this dataframe to an interactive table.\"\n",
              "            style=\"display:none;\">\n",
              "\n",
              "  <svg xmlns=\"http://www.w3.org/2000/svg\" height=\"24px\" viewBox=\"0 -960 960 960\">\n",
              "    <path d=\"M120-120v-720h720v720H120Zm60-500h600v-160H180v160Zm220 220h160v-160H400v160Zm0 220h160v-160H400v160ZM180-400h160v-160H180v160Zm440 0h160v-160H620v160ZM180-180h160v-160H180v160Zm440 0h160v-160H620v160Z\"/>\n",
              "  </svg>\n",
              "    </button>\n",
              "\n",
              "  <style>\n",
              "    .colab-df-container {\n",
              "      display:flex;\n",
              "      gap: 12px;\n",
              "    }\n",
              "\n",
              "    .colab-df-convert {\n",
              "      background-color: #E8F0FE;\n",
              "      border: none;\n",
              "      border-radius: 50%;\n",
              "      cursor: pointer;\n",
              "      display: none;\n",
              "      fill: #1967D2;\n",
              "      height: 32px;\n",
              "      padding: 0 0 0 0;\n",
              "      width: 32px;\n",
              "    }\n",
              "\n",
              "    .colab-df-convert:hover {\n",
              "      background-color: #E2EBFA;\n",
              "      box-shadow: 0px 1px 2px rgba(60, 64, 67, 0.3), 0px 1px 3px 1px rgba(60, 64, 67, 0.15);\n",
              "      fill: #174EA6;\n",
              "    }\n",
              "\n",
              "    .colab-df-buttons div {\n",
              "      margin-bottom: 4px;\n",
              "    }\n",
              "\n",
              "    [theme=dark] .colab-df-convert {\n",
              "      background-color: #3B4455;\n",
              "      fill: #D2E3FC;\n",
              "    }\n",
              "\n",
              "    [theme=dark] .colab-df-convert:hover {\n",
              "      background-color: #434B5C;\n",
              "      box-shadow: 0px 1px 3px 1px rgba(0, 0, 0, 0.15);\n",
              "      filter: drop-shadow(0px 1px 2px rgba(0, 0, 0, 0.3));\n",
              "      fill: #FFFFFF;\n",
              "    }\n",
              "  </style>\n",
              "\n",
              "    <script>\n",
              "      const buttonEl =\n",
              "        document.querySelector('#df-12f5d93a-165f-4517-8ee9-de4f4fa15615 button.colab-df-convert');\n",
              "      buttonEl.style.display =\n",
              "        google.colab.kernel.accessAllowed ? 'block' : 'none';\n",
              "\n",
              "      async function convertToInteractive(key) {\n",
              "        const element = document.querySelector('#df-12f5d93a-165f-4517-8ee9-de4f4fa15615');\n",
              "        const dataTable =\n",
              "          await google.colab.kernel.invokeFunction('convertToInteractive',\n",
              "                                                    [key], {});\n",
              "        if (!dataTable) return;\n",
              "\n",
              "        const docLinkHtml = 'Like what you see? Visit the ' +\n",
              "          '<a target=\"_blank\" href=https://colab.research.google.com/notebooks/data_table.ipynb>data table notebook</a>'\n",
              "          + ' to learn more about interactive tables.';\n",
              "        element.innerHTML = '';\n",
              "        dataTable['output_type'] = 'display_data';\n",
              "        await google.colab.output.renderOutput(dataTable, element);\n",
              "        const docLink = document.createElement('div');\n",
              "        docLink.innerHTML = docLinkHtml;\n",
              "        element.appendChild(docLink);\n",
              "      }\n",
              "    </script>\n",
              "  </div>\n",
              "\n",
              "\n",
              "<div id=\"df-ad8cb1ca-10ad-4a2d-ab3f-a2bd8b699863\">\n",
              "  <button class=\"colab-df-quickchart\" onclick=\"quickchart('df-ad8cb1ca-10ad-4a2d-ab3f-a2bd8b699863')\"\n",
              "            title=\"Suggest charts\"\n",
              "            style=\"display:none;\">\n",
              "\n",
              "<svg xmlns=\"http://www.w3.org/2000/svg\" height=\"24px\"viewBox=\"0 0 24 24\"\n",
              "     width=\"24px\">\n",
              "    <g>\n",
              "        <path d=\"M19 3H5c-1.1 0-2 .9-2 2v14c0 1.1.9 2 2 2h14c1.1 0 2-.9 2-2V5c0-1.1-.9-2-2-2zM9 17H7v-7h2v7zm4 0h-2V7h2v10zm4 0h-2v-4h2v4z\"/>\n",
              "    </g>\n",
              "</svg>\n",
              "  </button>\n",
              "\n",
              "<style>\n",
              "  .colab-df-quickchart {\n",
              "      --bg-color: #E8F0FE;\n",
              "      --fill-color: #1967D2;\n",
              "      --hover-bg-color: #E2EBFA;\n",
              "      --hover-fill-color: #174EA6;\n",
              "      --disabled-fill-color: #AAA;\n",
              "      --disabled-bg-color: #DDD;\n",
              "  }\n",
              "\n",
              "  [theme=dark] .colab-df-quickchart {\n",
              "      --bg-color: #3B4455;\n",
              "      --fill-color: #D2E3FC;\n",
              "      --hover-bg-color: #434B5C;\n",
              "      --hover-fill-color: #FFFFFF;\n",
              "      --disabled-bg-color: #3B4455;\n",
              "      --disabled-fill-color: #666;\n",
              "  }\n",
              "\n",
              "  .colab-df-quickchart {\n",
              "    background-color: var(--bg-color);\n",
              "    border: none;\n",
              "    border-radius: 50%;\n",
              "    cursor: pointer;\n",
              "    display: none;\n",
              "    fill: var(--fill-color);\n",
              "    height: 32px;\n",
              "    padding: 0;\n",
              "    width: 32px;\n",
              "  }\n",
              "\n",
              "  .colab-df-quickchart:hover {\n",
              "    background-color: var(--hover-bg-color);\n",
              "    box-shadow: 0 1px 2px rgba(60, 64, 67, 0.3), 0 1px 3px 1px rgba(60, 64, 67, 0.15);\n",
              "    fill: var(--button-hover-fill-color);\n",
              "  }\n",
              "\n",
              "  .colab-df-quickchart-complete:disabled,\n",
              "  .colab-df-quickchart-complete:disabled:hover {\n",
              "    background-color: var(--disabled-bg-color);\n",
              "    fill: var(--disabled-fill-color);\n",
              "    box-shadow: none;\n",
              "  }\n",
              "\n",
              "  .colab-df-spinner {\n",
              "    border: 2px solid var(--fill-color);\n",
              "    border-color: transparent;\n",
              "    border-bottom-color: var(--fill-color);\n",
              "    animation:\n",
              "      spin 1s steps(1) infinite;\n",
              "  }\n",
              "\n",
              "  @keyframes spin {\n",
              "    0% {\n",
              "      border-color: transparent;\n",
              "      border-bottom-color: var(--fill-color);\n",
              "      border-left-color: var(--fill-color);\n",
              "    }\n",
              "    20% {\n",
              "      border-color: transparent;\n",
              "      border-left-color: var(--fill-color);\n",
              "      border-top-color: var(--fill-color);\n",
              "    }\n",
              "    30% {\n",
              "      border-color: transparent;\n",
              "      border-left-color: var(--fill-color);\n",
              "      border-top-color: var(--fill-color);\n",
              "      border-right-color: var(--fill-color);\n",
              "    }\n",
              "    40% {\n",
              "      border-color: transparent;\n",
              "      border-right-color: var(--fill-color);\n",
              "      border-top-color: var(--fill-color);\n",
              "    }\n",
              "    60% {\n",
              "      border-color: transparent;\n",
              "      border-right-color: var(--fill-color);\n",
              "    }\n",
              "    80% {\n",
              "      border-color: transparent;\n",
              "      border-right-color: var(--fill-color);\n",
              "      border-bottom-color: var(--fill-color);\n",
              "    }\n",
              "    90% {\n",
              "      border-color: transparent;\n",
              "      border-bottom-color: var(--fill-color);\n",
              "    }\n",
              "  }\n",
              "</style>\n",
              "\n",
              "  <script>\n",
              "    async function quickchart(key) {\n",
              "      const quickchartButtonEl =\n",
              "        document.querySelector('#' + key + ' button');\n",
              "      quickchartButtonEl.disabled = true;  // To prevent multiple clicks.\n",
              "      quickchartButtonEl.classList.add('colab-df-spinner');\n",
              "      try {\n",
              "        const charts = await google.colab.kernel.invokeFunction(\n",
              "            'suggestCharts', [key], {});\n",
              "      } catch (error) {\n",
              "        console.error('Error during call to suggestCharts:', error);\n",
              "      }\n",
              "      quickchartButtonEl.classList.remove('colab-df-spinner');\n",
              "      quickchartButtonEl.classList.add('colab-df-quickchart-complete');\n",
              "    }\n",
              "    (() => {\n",
              "      let quickchartButtonEl =\n",
              "        document.querySelector('#df-ad8cb1ca-10ad-4a2d-ab3f-a2bd8b699863 button');\n",
              "      quickchartButtonEl.style.display =\n",
              "        google.colab.kernel.accessAllowed ? 'block' : 'none';\n",
              "    })();\n",
              "  </script>\n",
              "</div>\n",
              "\n",
              "  <div id=\"id_367120ed-8a87-4652-9f18-1c811f12d146\">\n",
              "    <style>\n",
              "      .colab-df-generate {\n",
              "        background-color: #E8F0FE;\n",
              "        border: none;\n",
              "        border-radius: 50%;\n",
              "        cursor: pointer;\n",
              "        display: none;\n",
              "        fill: #1967D2;\n",
              "        height: 32px;\n",
              "        padding: 0 0 0 0;\n",
              "        width: 32px;\n",
              "      }\n",
              "\n",
              "      .colab-df-generate:hover {\n",
              "        background-color: #E2EBFA;\n",
              "        box-shadow: 0px 1px 2px rgba(60, 64, 67, 0.3), 0px 1px 3px 1px rgba(60, 64, 67, 0.15);\n",
              "        fill: #174EA6;\n",
              "      }\n",
              "\n",
              "      [theme=dark] .colab-df-generate {\n",
              "        background-color: #3B4455;\n",
              "        fill: #D2E3FC;\n",
              "      }\n",
              "\n",
              "      [theme=dark] .colab-df-generate:hover {\n",
              "        background-color: #434B5C;\n",
              "        box-shadow: 0px 1px 3px 1px rgba(0, 0, 0, 0.15);\n",
              "        filter: drop-shadow(0px 1px 2px rgba(0, 0, 0, 0.3));\n",
              "        fill: #FFFFFF;\n",
              "      }\n",
              "    </style>\n",
              "    <button class=\"colab-df-generate\" onclick=\"generateWithVariable('new_sale_user')\"\n",
              "            title=\"Generate code using this dataframe.\"\n",
              "            style=\"display:none;\">\n",
              "\n",
              "  <svg xmlns=\"http://www.w3.org/2000/svg\" height=\"24px\"viewBox=\"0 0 24 24\"\n",
              "       width=\"24px\">\n",
              "    <path d=\"M7,19H8.4L18.45,9,17,7.55,7,17.6ZM5,21V16.75L18.45,3.32a2,2,0,0,1,2.83,0l1.4,1.43a1.91,1.91,0,0,1,.58,1.4,1.91,1.91,0,0,1-.58,1.4L9.25,21ZM18.45,9,17,7.55Zm-12,3A5.31,5.31,0,0,0,4.9,8.1,5.31,5.31,0,0,0,1,6.5,5.31,5.31,0,0,0,4.9,4.9,5.31,5.31,0,0,0,6.5,1,5.31,5.31,0,0,0,8.1,4.9,5.31,5.31,0,0,0,12,6.5,5.46,5.46,0,0,0,6.5,12Z\"/>\n",
              "  </svg>\n",
              "    </button>\n",
              "    <script>\n",
              "      (() => {\n",
              "      const buttonEl =\n",
              "        document.querySelector('#id_367120ed-8a87-4652-9f18-1c811f12d146 button.colab-df-generate');\n",
              "      buttonEl.style.display =\n",
              "        google.colab.kernel.accessAllowed ? 'block' : 'none';\n",
              "\n",
              "      buttonEl.onclick = () => {\n",
              "        google.colab.notebook.generateWithVariable('new_sale_user');\n",
              "      }\n",
              "      })();\n",
              "    </script>\n",
              "  </div>\n",
              "\n",
              "    </div>\n",
              "  </div>\n"
            ],
            "application/vnd.google.colaboratory.intrinsic+json": {
              "type": "dataframe",
              "variable_name": "new_sale_user",
              "summary": "{\n  \"name\": \"new_sale_user\",\n  \"rows\": 335,\n  \"fields\": [\n    {\n      \"column\": \"dealer_id\",\n      \"properties\": {\n        \"dtype\": \"number\",\n        \"std\": 106019508,\n        \"min\": 4886,\n        \"max\": 232980549,\n        \"num_unique_values\": 335,\n        \"samples\": [\n          23759,\n          2160743,\n          2035141\n        ],\n        \"semantic_type\": \"\",\n        \"description\": \"\"\n      }\n    },\n    {\n      \"column\": \"NextPurchaseDay\",\n      \"properties\": {\n        \"dtype\": \"number\",\n        \"std\": 140,\n        \"min\": 0,\n        \"max\": 1009,\n        \"num_unique_values\": 189,\n        \"samples\": [\n          34,\n          257,\n          16\n        ],\n        \"semantic_type\": \"\",\n        \"description\": \"\"\n      }\n    }\n  ]\n}"
            }
          },
          "metadata": {},
          "execution_count": 106
        }
      ]
    },
    {
      "cell_type": "markdown",
      "source": [
        "**Calculating Day Difference**"
      ],
      "metadata": {
        "id": "ICAOD1ZICr1U"
      }
    },
    {
      "cell_type": "code",
      "source": [
        "sale_dt['DayDiff'] = (sale_dt['purchase_date'] - sale_dt['PREV_INVOICE']).dt.days\n",
        "sale_dt['DayDiffTwo'] = (sale_dt['purchase_date'] - sale_dt['PREV_INVOICE_TWO']).dt.days\n",
        "sale_dt['DayDiffThree'] = (sale_dt['purchase_date'] - sale_dt['PREV_INVOICE_THREE']).dt.days\n",
        "print(sale_dt.head(5))"
      ],
      "metadata": {
        "colab": {
          "base_uri": "https://localhost:8080/"
        },
        "id": "QaZ08mjyCwTE",
        "outputId": "ba7b79a2-ebb5-467a-fb75-251741bfd803"
      },
      "execution_count": 58,
      "outputs": [
        {
          "output_type": "stream",
          "name": "stdout",
          "text": [
            "   dealer_id purchase_date  purchase_rank PREV_INVOICE PREV_INVOICE_TWO  \\\n",
            "0       4886    2025-02-18              1   2025-02-14       2025-01-15   \n",
            "1       4886    2025-02-14              2   2025-01-15       2024-11-27   \n",
            "2       4886    2025-01-15              3   2024-11-27       2024-09-24   \n",
            "3       4886    2024-11-27              4   2024-09-24       2024-08-22   \n",
            "4       8045    2025-02-12              1   2024-12-24       2024-10-27   \n",
            "\n",
            "  PREV_INVOICE_THREE  DayDiff  DayDiffTwo  DayDiffThree  \n",
            "0         2024-11-27      4.0        34.0          83.0  \n",
            "1         2024-09-24     30.0        79.0         143.0  \n",
            "2         2024-08-22     49.0       113.0         146.0  \n",
            "3         2024-07-21     64.0        97.0         129.0  \n",
            "4         2024-08-26     50.0       108.0         170.0  \n"
          ]
        }
      ]
    },
    {
      "cell_type": "markdown",
      "source": [
        "**Calculating mean avg of day diff**"
      ],
      "metadata": {
        "id": "9yrqbuh7EAXm"
      }
    },
    {
      "cell_type": "code",
      "source": [
        "sale_day_diff = sale_dt.groupby('dealer_id').agg({'DayDiff': ['mean','std']}).reset_index()\n",
        "sale_day_diff.columns = ['dealer_id', 'DayDiffMean','DayDiffStd']\n",
        "print(sale_day_diff.head(5))"
      ],
      "metadata": {
        "colab": {
          "base_uri": "https://localhost:8080/"
        },
        "id": "HSWDbgI7EEWX",
        "outputId": "dd3647ec-c08b-4ba8-cc90-83c372eb4e50"
      },
      "execution_count": 59,
      "outputs": [
        {
          "output_type": "stream",
          "name": "stdout",
          "text": [
            "   dealer_id  DayDiffMean  DayDiffStd\n",
            "0       4886        36.75   25.889187\n",
            "1       8045        53.25    8.460693\n",
            "2      11702        13.25    7.365460\n",
            "3      12211        86.75  123.834231\n",
            "4      12280        41.75   37.827459\n"
          ]
        }
      ]
    },
    {
      "cell_type": "markdown",
      "source": [
        "**Remove dealers who have less than 3 purchases**"
      ],
      "metadata": {
        "id": "Z26D_gJLsI7C"
      }
    },
    {
      "cell_type": "code",
      "source": [
        "sale_day_last = sale_dt.drop_duplicates(subset=['dealer_id'], keep='last')\n",
        "print(sale_day_last);"
      ],
      "metadata": {
        "colab": {
          "base_uri": "https://localhost:8080/"
        },
        "id": "fX1HXaZisNTY",
        "outputId": "49774712-b3f9-4a6b-b3ee-0dad2588699a"
      },
      "execution_count": 60,
      "outputs": [
        {
          "output_type": "stream",
          "name": "stdout",
          "text": [
            "      dealer_id purchase_date  purchase_rank PREV_INVOICE PREV_INVOICE_TWO  \\\n",
            "3          4886    2024-11-27              4   2024-09-24       2024-08-22   \n",
            "7          8045    2024-08-26              4   2024-07-14       2024-06-01   \n",
            "11        11702    2025-01-08              4   2024-12-29       2024-11-05   \n",
            "15        12211    2024-02-21              4   2024-01-29       2023-07-05   \n",
            "19        12280    2024-09-13              4   2024-09-02       2024-07-31   \n",
            "...         ...           ...            ...          ...              ...   \n",
            "1216  232977250    2025-02-03              1          NaT              NaT   \n",
            "1218  232977760    2025-02-01              2          NaT              NaT   \n",
            "1219  232979074    2025-02-13              1          NaT              NaT   \n",
            "1220  232980371    2025-02-15              1          NaT              NaT   \n",
            "1221  232980549    2025-02-14              1          NaT              NaT   \n",
            "\n",
            "     PREV_INVOICE_THREE  DayDiff  DayDiffTwo  DayDiffThree  \n",
            "3            2024-07-21     64.0        97.0         129.0  \n",
            "7            2024-05-09     43.0        86.0         109.0  \n",
            "11           2024-10-21     10.0        64.0          79.0  \n",
            "15           2023-05-18     23.0       231.0         279.0  \n",
            "19           2024-07-22     11.0        44.0          53.0  \n",
            "...                 ...      ...         ...           ...  \n",
            "1216                NaT      NaN         NaN           NaN  \n",
            "1218                NaT      NaN         NaN           NaN  \n",
            "1219                NaT      NaN         NaN           NaN  \n",
            "1220                NaT      NaN         NaN           NaN  \n",
            "1221                NaT      NaN         NaN           NaN  \n",
            "\n",
            "[335 rows x 9 columns]\n"
          ]
        }
      ]
    },
    {
      "cell_type": "markdown",
      "source": [
        "**Dropping NA values**"
      ],
      "metadata": {
        "id": "0PegoHOisvtk"
      }
    },
    {
      "cell_type": "code",
      "source": [
        "sale_day_last = sale_day_last.dropna()\n",
        "sales_day_last = pd.merge(sale_day_last, sale_day_diff, on='dealer_id')\n",
        "#print(sale_user)\n",
        "new_sale_user = pd.merge(new_sale_user, sales_day_last[['dealer_id','DayDiff','DayDiffTwo','DayDiffThree','DayDiffMean','DayDiffStd']], on='dealer_id')\n",
        "sale_class = new_sale_user.copy()\n",
        "sale_class = pd.get_dummies(sale_class)"
      ],
      "metadata": {
        "id": "mcCzELFOs51w"
      },
      "execution_count": 61,
      "outputs": []
    },
    {
      "cell_type": "markdown",
      "source": [
        "**NEXT SALE CLASS**"
      ],
      "metadata": {
        "id": "pfikZYkQxUQM"
      }
    },
    {
      "cell_type": "code",
      "source": [
        "#print(sale_class.head(5))\n",
        "sale_class['NextPurchaseDayRange'] = 2\n",
        "sale_class.loc[sale_class.NextPurchaseDay>20,'NextPurchaseDayRange'] = 1\n",
        "sale_class.loc[sale_class.NextPurchaseDay>50,'NextPurchaseDayRange'] = 0"
      ],
      "metadata": {
        "id": "JMO-csryxXhh"
      },
      "execution_count": 62,
      "outputs": []
    },
    {
      "cell_type": "markdown",
      "source": [
        "Check Heatmap"
      ],
      "metadata": {
        "id": "NVYUk_5ffzJQ"
      }
    },
    {
      "cell_type": "code",
      "source": [
        "corr = sale_class[sale_class.columns].corr()\n",
        "plt.figure(figsize = (30,20))\n",
        "sns.heatmap(corr, annot = True, linewidths=0.2, fmt=\".2f\")\n",
        "print(sale_class)"
      ],
      "metadata": {
        "colab": {
          "base_uri": "https://localhost:8080/",
          "height": 1000
        },
        "id": "qcwDRFSIf1QI",
        "outputId": "12705323-e52e-44ba-8c97-16df71fe2f69"
      },
      "execution_count": 63,
      "outputs": [
        {
          "output_type": "stream",
          "name": "stdout",
          "text": [
            "     dealer_id  NextPurchaseDay  DayDiff  DayDiffTwo  DayDiffThree  \\\n",
            "0         4886               83     64.0        97.0         129.0   \n",
            "1         8045              170     43.0        86.0         109.0   \n",
            "2        11702               43     10.0        64.0          79.0   \n",
            "3        12211              324     23.0       231.0         279.0   \n",
            "4        12280              156     11.0        44.0          53.0   \n",
            "..         ...              ...      ...         ...           ...   \n",
            "223  232931295               49      8.0        14.0          29.0   \n",
            "224  232934447               52     24.0        43.0          85.0   \n",
            "225  232935806               28     22.0        26.0          37.0   \n",
            "226  232962603               14     21.0        29.0          32.0   \n",
            "227  232968663               10      1.0         3.0          12.0   \n",
            "\n",
            "     DayDiffMean  DayDiffStd  NextPurchaseDayRange  \n",
            "0          36.75   25.889187                     0  \n",
            "1          53.25    8.460693                     0  \n",
            "2          13.25    7.365460                     1  \n",
            "3          86.75  123.834231                     0  \n",
            "4          41.75   37.827459                     0  \n",
            "..           ...         ...                   ...  \n",
            "223        14.25    4.272002                     1  \n",
            "224        19.00   10.677078                     0  \n",
            "225        12.50    8.962886                     1  \n",
            "226         8.75    8.421203                     2  \n",
            "227         2.75    2.217356                     2  \n",
            "\n",
            "[228 rows x 8 columns]\n"
          ]
        },
        {
          "output_type": "display_data",
          "data": {
            "text/plain": [
              "<Figure size 3000x2000 with 2 Axes>"
            ],
            "image/png": "[encoded data removed]"
          },
          "metadata": {}
        }
      ]
    },
    {
      "cell_type": "markdown",
      "source": [
        "**Split the dataset**"
      ],
      "metadata": {
        "id": "T9pV4XqRhuVH"
      }
    },
    {
      "cell_type": "code",
      "source": [
        "from sklearn.model_selection import GroupShuffleSplit\n",
        "\n",
        "sale_class = sale_class.drop('NextPurchaseDay', axis=1)\n",
        "x, y = sale_class.drop('NextPurchaseDayRange', axis=1), sale_class['NextPurchaseDayRange']\n",
        "groups = sale_class['dealer_id']\n",
        "\n",
        "gss = GroupShuffleSplit(n_splits=1, test_size=0.2, random_state=44)\n",
        "for train_idx, test_idx in gss.split(x, y, groups=groups):\n",
        "    X_train, X_test = x.iloc[train_idx], x.iloc[test_idx]\n",
        "    y_train, y_test = y.iloc[train_idx], y.iloc[test_idx]"
      ],
      "metadata": {
        "id": "1KF5DSCbhxfQ"
      },
      "execution_count": 64,
      "outputs": []
    },
    {
      "cell_type": "markdown",
      "source": [
        "**Printing both training sets**"
      ],
      "metadata": {
        "id": "kB3RVPYEqyxu"
      }
    },
    {
      "cell_type": "code",
      "source": [
        "print('X_train: \\n', X_train)\n",
        "print('y_train: \\n', y_train)"
      ],
      "metadata": {
        "colab": {
          "base_uri": "https://localhost:8080/"
        },
        "id": "LUGJPe6Tq2dw",
        "outputId": "6b6f94d7-739c-4af3-fc9f-5e54fc74f6cb"
      },
      "execution_count": 65,
      "outputs": [
        {
          "output_type": "stream",
          "name": "stdout",
          "text": [
            "X_train: \n",
            "      dealer_id  DayDiff  DayDiffTwo  DayDiffThree  DayDiffMean  DayDiffStd\n",
            "0         4886     64.0        97.0         129.0        36.75   25.889187\n",
            "1         8045     43.0        86.0         109.0        53.25    8.460693\n",
            "2        11702     10.0        64.0          79.0        13.25    7.365460\n",
            "4        12280     11.0        44.0          53.0        41.75   37.827459\n",
            "6        12634     27.0        97.0         151.0        65.50   34.229617\n",
            "..         ...      ...         ...           ...          ...         ...\n",
            "223  232931295      8.0        14.0          29.0        14.25    4.272002\n",
            "224  232934447     24.0        43.0          85.0        19.00   10.677078\n",
            "225  232935806     22.0        26.0          37.0        12.50    8.962886\n",
            "226  232962603     21.0        29.0          32.0         8.75    8.421203\n",
            "227  232968663      1.0         3.0          12.0         2.75    2.217356\n",
            "\n",
            "[182 rows x 6 columns]\n",
            "y_train: \n",
            " 0      0\n",
            "1      0\n",
            "2      1\n",
            "4      0\n",
            "6      0\n",
            "      ..\n",
            "223    1\n",
            "224    0\n",
            "225    1\n",
            "226    2\n",
            "227    2\n",
            "Name: NextPurchaseDayRange, Length: 182, dtype: int64\n"
          ]
        }
      ]
    },
    {
      "cell_type": "markdown",
      "source": [
        "**Creating an array of models**"
      ],
      "metadata": {
        "id": "yrRyCI60pNq1"
      }
    },
    {
      "cell_type": "code",
      "source": [
        "#import machine learning related libraries\n",
        "from sklearn.svm import SVC\n",
        "from sklearn.multioutput import MultiOutputClassifier\n",
        "from sklearn.ensemble import GradientBoostingClassifier\n",
        "from sklearn.tree import DecisionTreeClassifier\n",
        "from sklearn.neighbors import KNeighborsClassifier\n",
        "from sklearn.naive_bayes import GaussianNB\n",
        "from sklearn.ensemble import RandomForestClassifier\n",
        "from sklearn.linear_model import LogisticRegression\n",
        "import xgboost as xgb\n",
        "from sklearn.model_selection import KFold, cross_val_score, train_test_split\n",
        "\n",
        "#create an array of models\n",
        "models = []\n",
        "models.append((\"LR\",LogisticRegression()))\n",
        "models.append((\"NB\",GaussianNB()))\n",
        "models.append((\"RF\",RandomForestClassifier()))\n",
        "models.append((\"SVC\",SVC()))\n",
        "models.append((\"Dtree\",DecisionTreeClassifier()))\n",
        "models.append((\"XGB\",xgb.XGBClassifier()))\n",
        "models.append((\"KNN\",KNeighborsClassifier()))\n"
      ],
      "metadata": {
        "id": "JcxQCAAlpRKs"
      },
      "execution_count": 66,
      "outputs": []
    },
    {
      "cell_type": "markdown",
      "source": [
        "**Measuring accuracy**"
      ],
      "metadata": {
        "id": "CzHk1k-fpnFR"
      }
    },
    {
      "cell_type": "code",
      "source": [
        "#measure the accuracy\n",
        "for name,model in models:\n",
        "    kfold = KFold(n_splits=2, random_state=None)\n",
        "    cv_result = cross_val_score(model,X_train,y_train, cv = kfold,scoring = \"accuracy\")\n",
        "    print(name, cv_result)\n",
        "    #This results as Random Forest being the one model with the highest accuracy"
      ],
      "metadata": {
        "colab": {
          "base_uri": "https://localhost:8080/"
        },
        "id": "zi3PDq5jppdy",
        "outputId": "e77754a8-717e-420b-8861-32cdd36f23b4"
      },
      "execution_count": 67,
      "outputs": [
        {
          "output_type": "stream",
          "name": "stderr",
          "text": [
            "/usr/local/lib/python3.11/dist-packages/sklearn/linear_model/_logistic.py:465: ConvergenceWarning: lbfgs failed to converge (status=1):\n",
            "STOP: TOTAL NO. of ITERATIONS REACHED LIMIT.\n",
            "\n",
            "Increase the number of iterations (max_iter) or scale the data as shown in:\n",
            "    https://scikit-learn.org/stable/modules/preprocessing.html\n",
            "Please also refer to the documentation for alternative solver options:\n",
            "    https://scikit-learn.org/stable/modules/linear_model.html#logistic-regression\n",
            "  n_iter_i = _check_optimize_result(\n",
            "/usr/local/lib/python3.11/dist-packages/sklearn/linear_model/_logistic.py:465: ConvergenceWarning: lbfgs failed to converge (status=1):\n",
            "STOP: TOTAL NO. of ITERATIONS REACHED LIMIT.\n",
            "\n",
            "Increase the number of iterations (max_iter) or scale the data as shown in:\n",
            "    https://scikit-learn.org/stable/modules/preprocessing.html\n",
            "Please also refer to the documentation for alternative solver options:\n",
            "    https://scikit-learn.org/stable/modules/linear_model.html#logistic-regression\n",
            "  n_iter_i = _check_optimize_result(\n"
          ]
        },
        {
          "output_type": "stream",
          "name": "stdout",
          "text": [
            "LR [0.71428571 0.64835165]\n",
            "NB [0.71428571 0.47252747]\n",
            "RF [0.91208791 0.91208791]\n",
            "SVC [0.71428571 0.8021978 ]\n",
            "Dtree [0.86813187 0.94505495]\n",
            "XGB [0.87912088 0.94505495]\n",
            "KNN [0.71428571 0.8021978 ]\n"
          ]
        }
      ]
    },
    {
      "cell_type": "markdown",
      "source": [
        "**Checking accuracy with XGBoost**"
      ],
      "metadata": {
        "id": "oqdvFOfit3lo"
      }
    },
    {
      "cell_type": "code",
      "source": [
        "xgb_model = xgb.XGBClassifier().fit(X_train, y_train)\n",
        "print('Accuracy of XGB classifier on training set: {:.2f}'\n",
        "       .format(xgb_model.score(X_train, y_train)))\n",
        "print('Accuracy of XGB classifier on test set: {:.2f}'\n",
        "       .format(xgb_model.score(X_test[X_train.columns], y_test)))"
      ],
      "metadata": {
        "colab": {
          "base_uri": "https://localhost:8080/"
        },
        "id": "CuBCgvVet2B0",
        "outputId": "5223df58-a801-4ec3-fb58-309c12524f45"
      },
      "execution_count": 50,
      "outputs": [
        {
          "output_type": "stream",
          "name": "stdout",
          "text": [
            "Accuracy of XGB classifier on training set: 1.00\n",
            "Accuracy of XGB classifier on test set: 0.98\n"
          ]
        }
      ]
    },
    {
      "cell_type": "markdown",
      "source": [
        "**Checking accuracy with Random Forest**"
      ],
      "metadata": {
        "id": "VPxYbzXAumbN"
      }
    },
    {
      "cell_type": "code",
      "source": [
        "from xgboost import XGBClassifier\n",
        "from sklearn.ensemble import RandomForestClassifier\n",
        "\n",
        "# Tuned XGB\n",
        "xgb_tuned = XGBClassifier(max_depth=3, learning_rate=0.1, n_estimators=200, random_state=None)\n",
        "xgb_tuned.fit(X_train, y_train)\n",
        "print(\"Tuned XGB train accuracy:\", xgb_tuned.score(X_train, y_train))\n",
        "print(\"Tuned XGB test accuracy:\", xgb_tuned.score(X_test, y_test))\n",
        "\n",
        "# RF\n",
        "rf = RandomForestClassifier(random_state=None)\n",
        "rf.fit(X_train, y_train)\n",
        "print(\"RF train accuracy:\", rf.score(X_train, y_train))\n",
        "print(\"RF test accuracy:\", rf.score(X_test, y_test))"
      ],
      "metadata": {
        "colab": {
          "base_uri": "https://localhost:8080/"
        },
        "id": "5-4SOJMPup6E",
        "outputId": "e9a5a7b9-731e-474b-e308-f1d7c511b621"
      },
      "execution_count": 51,
      "outputs": [
        {
          "output_type": "stream",
          "name": "stdout",
          "text": [
            "Tuned XGB train accuracy: 1.0\n",
            "Tuned XGB test accuracy: 0.9782608695652174\n",
            "RF train accuracy: 1.0\n",
            "RF test accuracy: 0.9782608695652174\n"
          ]
        }
      ]
    },
    {
      "cell_type": "markdown",
      "source": [
        "**Selecting Model**"
      ],
      "metadata": {
        "id": "22fRg16p6kkp"
      }
    },
    {
      "cell_type": "code",
      "source": [
        "# Define and fit Random Forest\n",
        "model = RandomForestClassifier(random_state=44, n_estimators=100)  # 100 trees by default\n",
        "model.fit(X_train, y_train)  # Train the model\n",
        "print(X_train.head(100))"
      ],
      "metadata": {
        "colab": {
          "base_uri": "https://localhost:8080/"
        },
        "id": "nZvHv5s66ndu",
        "outputId": "701bb750-f88b-48fc-afe5-767dc37598de"
      },
      "execution_count": 84,
      "outputs": [
        {
          "output_type": "stream",
          "name": "stdout",
          "text": [
            "     dealer_id  DayDiff  DayDiffTwo  DayDiffThree  DayDiffMean  DayDiffStd\n",
            "0         4886     64.0        97.0         129.0        36.75   25.889187\n",
            "1         8045     43.0        86.0         109.0        53.25    8.460693\n",
            "2        11702     10.0        64.0          79.0        13.25    7.365460\n",
            "4        12280     11.0        44.0          53.0        41.75   37.827459\n",
            "6        12634     27.0        97.0         151.0        65.50   34.229617\n",
            "..         ...      ...         ...           ...          ...         ...\n",
            "120    2205356     85.0       117.0         146.0        49.25   36.935755\n",
            "121    2205795     18.0        32.0          95.0        13.75    7.410578\n",
            "122    2209109     30.0        69.0         122.0        26.75   19.989581\n",
            "123    2210651     35.0        90.0         172.0        33.25   13.865425\n",
            "124    2210653     39.0        67.0          88.0        31.50   15.022206\n",
            "\n",
            "[100 rows x 6 columns]\n"
          ]
        }
      ]
    },
    {
      "cell_type": "code",
      "source": [
        "from datetime import timedelta\n",
        "\n",
        "# Predict for dealer_id = 4886\n",
        "dealer_data = sale_class[sale_class['dealer_id'] == 4886].iloc[-1:]  # Last row\n",
        "X_new = dealer_data.drop(['NextPurchaseDayRange'], axis=1)  # Match X_train format\n",
        "prediction = model.predict(X_train[sale_class['dealer_id'] == 4886])\n",
        "print(\"Predicted NextPurchaseDayRange:\", prediction[0])\n",
        "\n",
        "# Convert to date\n",
        "range_mapping = {0: 51, 1: 35, 2: 10}  # Minimums or midpoints\n",
        "last_purchase = pd.to_datetime(\"2025-02-18\")\n",
        "days_to_add = range_mapping[prediction[0]]\n",
        "next_purchase_date = last_purchase + timedelta(days=days_to_add)\n",
        "print(\"Predicted next purchase date:\", next_purchase_date)\n"
      ],
      "metadata": {
        "colab": {
          "base_uri": "https://localhost:8080/"
        },
        "id": "o8jIumoq7LfZ",
        "outputId": "cfc88d51-af4e-4434-a1c3-09a47f3acde4"
      },
      "execution_count": 90,
      "outputs": [
        {
          "output_type": "stream",
          "name": "stdout",
          "text": [
            "Predicted NextPurchaseDayRange: 0\n",
            "Predicted next purchase date: 2025-04-10 00:00:00\n"
          ]
        },
        {
          "output_type": "stream",
          "name": "stderr",
          "text": [
            "<ipython-input-90-6b99813005a5>:6: UserWarning: Boolean Series key will be reindexed to match DataFrame index.\n",
            "  prediction = model.predict(X_train[sale_class['dealer_id'] == 4886])\n"
          ]
        }
      ]
    }
  ]
}